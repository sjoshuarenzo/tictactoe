{
 "cells": [
  {
   "cell_type": "code",
   "execution_count": 2,
   "id": "0bca048d-f8e2-4a4b-a847-42455e76121e",
   "metadata": {},
   "outputs": [],
   "source": [
    "def display_grid(grid):\n",
    "\n",
    "    print(f\" {grid[0][0]} | {grid[0][1]} | {grid[0][2]}\")\n",
    "    print(\"---+---+---\")\n",
    "    print(f\" {grid[1][0]} | {grid[1][1]} | {grid[1][2]}\")\n",
    "    print(\"---+---+---\")\n",
    "    print(f\" {grid[2][0]} | {grid[2][1]} | {grid[2][2]}\")"
   ]
  },
  {
   "cell_type": "code",
   "execution_count": 3,
   "id": "12dacfbc-b276-4aff-b37c-bdeea6b669e9",
   "metadata": {},
   "outputs": [],
   "source": [
    "def gameon_choice():\n",
    "\n",
    "    choice = 'wrong'\n",
    "\n",
    "    while choice not in ['Y','N']:\n",
    "\n",
    "        choice = input(\"Keep playing? (Y / N): \")\n",
    "\n",
    "        if choice not in ['Y','N']:\n",
    "            print(\"Sorry, I do not understand, please choose Y or N.\")\n",
    "\n",
    "    if choice == 'Y':\n",
    "        return True\n",
    "    else:\n",
    "        return False"
   ]
  },
  {
   "cell_type": "code",
   "execution_count": 4,
   "id": "1b3dae46-d2e5-410f-bebb-0ce5a4d6cb63",
   "metadata": {},
   "outputs": [],
   "source": [
    "def place_tic(grid,player):\n",
    "    \n",
    "    position = int(input(f\"{player} please choose a cell (1-9): \"))\n",
    "    \n",
    "    row = (position - 1) // 3\n",
    "    col = (position - 1) % 3\n",
    "\n",
    "    if grid[row][col] != ' ':\n",
    "\n",
    "        print(\"Choose an empty cell!\")\n",
    "        return player\n",
    "\n",
    "    grid[row][col] = player\n",
    "\n",
    "    return 'O' if player == 'X' else 'X'"
   ]
  },
  {
   "cell_type": "code",
   "execution_count": 5,
   "id": "c14e17a2-2961-444f-8ae5-c91817693be2",
   "metadata": {},
   "outputs": [],
   "source": [
    "def check_win(grid,player):\n",
    "\n",
    "    filled = 0\n",
    "    won = False\n",
    "\n",
    "    for r in range(3):\n",
    "        for c in range(3):\n",
    "            if grid[r][c] != ' ':\n",
    "                filled = filled + 1\n",
    "                \n",
    "    for row in grid:\n",
    "\n",
    "        if len(set(row)) == 1 and row[0] == player:\n",
    "            print(f\"{player} wins\")\n",
    "            won = True\n",
    "\n",
    "    for col in range(3):\n",
    "\n",
    "        if grid[0][col] == player and grid[1][col] == player and grid[2][col] == player:\n",
    "            print(f\"{player} wins\")\n",
    "            won = True\n",
    "\n",
    "    if grid[0][0] == player and grid[1][1] == player and grid[2][2] == player:\n",
    "        print(f\"{player} wins\")\n",
    "        won = True\n",
    "    elif grid[0][2] == player and grid[1][1] == player and grid[2][0] == player:\n",
    "        print(f\"{player} wins\")\n",
    "        won = True\n",
    "\n",
    "    if filled == 9 and won != True:\n",
    "        print(\"Draw!\")"
   ]
  },
  {
   "cell_type": "code",
   "execution_count": 6,
   "id": "5f113235-7815-4e90-9181-d3efcd96596b",
   "metadata": {},
   "outputs": [],
   "source": [
    "from IPython.display import clear_output\n",
    "game_on = True\n",
    "grid = [[' ',' ',' '],[' ',' ',' '],[' ',' ',' ']]\n",
    "player = 'X'\n",
    "\n",
    "while game_on:\n",
    "\n",
    "    display_grid(grid)\n",
    "\n",
    "    current_player = player\n",
    "\n",
    "    player = place_tic(grid,player)\n",
    "\n",
    "    display_grid(grid)\n",
    "\n",
    "    if check_win(grid,current_player):\n",
    "        print(f\"{current_player} wins!\")\n",
    "    \n",
    "    game_on = gameon_choice()\n",
    "\n",
    "    clear_output()\n",
    "    "
   ]
  },
  {
   "cell_type": "code",
   "execution_count": null,
   "id": "1169f5d9-89f3-44de-ac65-c8422bf64b14",
   "metadata": {},
   "outputs": [],
   "source": []
  }
 ],
 "metadata": {
  "kernelspec": {
   "display_name": "Python [conda env:base] *",
   "language": "python",
   "name": "conda-base-py"
  },
  "language_info": {
   "codemirror_mode": {
    "name": "ipython",
    "version": 3
   },
   "file_extension": ".py",
   "mimetype": "text/x-python",
   "name": "python",
   "nbconvert_exporter": "python",
   "pygments_lexer": "ipython3",
   "version": "3.13.5"
  }
 },
 "nbformat": 4,
 "nbformat_minor": 5
}
